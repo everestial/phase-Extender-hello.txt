{
 "cells": [
  {
   "cell_type": "code",
   "execution_count": 8,
   "metadata": {},
   "outputs": [],
   "source": [
    "#example \n",
    "from phase_extender.hapstats import compute_haplotype_stats, compute_stats_df, plot_all_data, plot_hist_one_chr, plot_bar_hapstats\n",
    "import pandas as pd"
   ]
  },
  {
   "cell_type": "code",
   "execution_count": 2,
   "metadata": {},
   "outputs": [
    {
     "data": {
      "text/html": [
       "<div>\n",
       "<style scoped>\n",
       "    .dataframe tbody tr th:only-of-type {\n",
       "        vertical-align: middle;\n",
       "    }\n",
       "\n",
       "    .dataframe tbody tr th {\n",
       "        vertical-align: top;\n",
       "    }\n",
       "\n",
       "    .dataframe thead th {\n",
       "        text-align: right;\n",
       "    }\n",
       "</style>\n",
       "<table border=\"1\" class=\"dataframe\">\n",
       "  <thead>\n",
       "    <tr style=\"text-align: right;\">\n",
       "      <th></th>\n",
       "      <th>CHROM</th>\n",
       "      <th>ms02g:PI</th>\n",
       "      <th>num_Vars_by_PI</th>\n",
       "      <th>range_of_PI</th>\n",
       "      <th>total_haplotypes</th>\n",
       "      <th>total_Vars</th>\n",
       "    </tr>\n",
       "  </thead>\n",
       "  <tbody>\n",
       "    <tr>\n",
       "      <th>0</th>\n",
       "      <td>1</td>\n",
       "      <td>1</td>\n",
       "      <td>66</td>\n",
       "      <td>2903</td>\n",
       "      <td>1</td>\n",
       "      <td>66</td>\n",
       "    </tr>\n",
       "    <tr>\n",
       "      <th>1</th>\n",
       "      <td>2</td>\n",
       "      <td>9,8,10</td>\n",
       "      <td>94,78,104</td>\n",
       "      <td>89910,1102167,1622052</td>\n",
       "      <td>3</td>\n",
       "      <td>276</td>\n",
       "    </tr>\n",
       "    <tr>\n",
       "      <th>2</th>\n",
       "      <td>3</td>\n",
       "      <td>5,3</td>\n",
       "      <td>6,43</td>\n",
       "      <td>908,117261</td>\n",
       "      <td>2</td>\n",
       "      <td>49</td>\n",
       "    </tr>\n",
       "    <tr>\n",
       "      <th>3</th>\n",
       "      <td>4</td>\n",
       "      <td>17</td>\n",
       "      <td>77</td>\n",
       "      <td>4027</td>\n",
       "      <td>1</td>\n",
       "      <td>77</td>\n",
       "    </tr>\n",
       "    <tr>\n",
       "      <th>4</th>\n",
       "      <td>5</td>\n",
       "      <td>13</td>\n",
       "      <td>284</td>\n",
       "      <td>9642559</td>\n",
       "      <td>1</td>\n",
       "      <td>284</td>\n",
       "    </tr>\n",
       "    <tr>\n",
       "      <th>5</th>\n",
       "      <td>7</td>\n",
       "      <td>24,29,31</td>\n",
       "      <td>43,106,25</td>\n",
       "      <td>4342,6798,331</td>\n",
       "      <td>3</td>\n",
       "      <td>174</td>\n",
       "    </tr>\n",
       "    <tr>\n",
       "      <th>6</th>\n",
       "      <td>8</td>\n",
       "      <td>33,32</td>\n",
       "      <td>53,35</td>\n",
       "      <td>1603,2991338</td>\n",
       "      <td>2</td>\n",
       "      <td>88</td>\n",
       "    </tr>\n",
       "  </tbody>\n",
       "</table>\n",
       "</div>"
      ],
      "text/plain": [
       "   CHROM  ms02g:PI num_Vars_by_PI            range_of_PI  total_haplotypes  \\\n",
       "0      1         1             66                   2903                 1   \n",
       "1      2    9,8,10      94,78,104  89910,1102167,1622052                 3   \n",
       "2      3       5,3           6,43             908,117261                 2   \n",
       "3      4        17             77                   4027                 1   \n",
       "4      5        13            284                9642559                 1   \n",
       "5      7  24,29,31      43,106,25          4342,6798,331                 3   \n",
       "6      8     33,32          53,35           1603,2991338                 2   \n",
       "\n",
       "   total_Vars  \n",
       "0          66  \n",
       "1         276  \n",
       "2          49  \n",
       "3          77  \n",
       "4         284  \n",
       "5         174  \n",
       "6          88  "
      ]
     },
     "execution_count": 2,
     "metadata": {},
     "output_type": "execute_result"
    }
   ],
   "source": [
    "final_hap_df = pd.read_csv('tests/outdir/eg3out/final_haplotype_stats_ms02g.txt', sep='\\t')\n",
    "final_hap_df"
   ]
  },
  {
   "cell_type": "code",
   "execution_count": 7,
   "metadata": {},
   "outputs": [],
   "source": [
    "plot_all_data(final_hap_df, soi='ms02g', prefix='initial', )"
   ]
  },
  {
   "cell_type": "code",
   "execution_count": 12,
   "metadata": {},
   "outputs": [],
   "source": [
    "xcol=\"CHROM\"\n",
    "ycol=\"total_Vars\"\n",
    "plot_bar_hapstats(final_hap_df, xcol, ycol, filepath='chrome_by_total_vars')"
   ]
  },
  {
   "cell_type": "code",
   "execution_count": null,
   "metadata": {},
   "outputs": [],
   "source": [
    "xcol=\"CHROM\"\n",
    "ycol=\"total_haplotypes\"\n",
    "plot_bar_hapstats(final_hap_df, xcol, ycol, filepath='chrome_by_total_haplotypes')"
   ]
  }
 ],
 "metadata": {
  "interpreter": {
   "hash": "76fecdcc5948a122d6459e2081f75ede80f8418a8099f56ea59c608eb267b4e7"
  },
  "kernelspec": {
   "display_name": "Python 3.10.2 ('.env': venv)",
   "language": "python",
   "name": "python3"
  },
  "language_info": {
   "codemirror_mode": {
    "name": "ipython",
    "version": 3
   },
   "file_extension": ".py",
   "mimetype": "text/x-python",
   "name": "python",
   "nbconvert_exporter": "python",
   "pygments_lexer": "ipython3",
   "version": "3.10.2"
  },
  "orig_nbformat": 4
 },
 "nbformat": 4,
 "nbformat_minor": 2
}
