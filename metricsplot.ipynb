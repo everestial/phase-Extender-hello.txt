{
 "cells": [
  {
   "cell_type": "code",
   "execution_count": 4,
   "metadata": {},
   "outputs": [],
   "source": [
    "import pandas as pd\n",
    "import matplotlib.pyplot as plt\n",
    "import seaborn as sns\n",
    "import os"
   ]
  },
  {
   "cell_type": "code",
   "execution_count": 17,
   "metadata": {},
   "outputs": [],
   "source": [
    "path1 = 'tempdir/NA12891/setA/iter01/merged_stats.tsv'\n",
    "path2 = 'tempdir/NA12891/setA/iter02/merged_stats.tsv'\n",
    "outputdir='tempdir/NA12891/setA/combined2'\n",
    "\n"
   ]
  },
  {
   "cell_type": "code",
   "execution_count": 18,
   "metadata": {},
   "outputs": [],
   "source": [
    "os.makedirs(outputdir, exist_ok=True)"
   ]
  },
  {
   "cell_type": "code",
   "execution_count": 19,
   "metadata": {},
   "outputs": [],
   "source": [
    "df1 = pd.read_csv(path1, sep='\\t')\n",
    "df2 = pd.read_csv(path2, sep='\\t')\n"
   ]
  },
  {
   "cell_type": "code",
   "execution_count": 5,
   "metadata": {},
   "outputs": [
    {
     "data": {
      "text/html": [
       "<div>\n",
       "<style scoped>\n",
       "    .dataframe tbody tr th:only-of-type {\n",
       "        vertical-align: middle;\n",
       "    }\n",
       "\n",
       "    .dataframe tbody tr th {\n",
       "        vertical-align: top;\n",
       "    }\n",
       "\n",
       "    .dataframe thead th {\n",
       "        text-align: right;\n",
       "    }\n",
       "</style>\n",
       "<table border=\"1\" class=\"dataframe\">\n",
       "  <thead>\n",
       "    <tr style=\"text-align: right;\">\n",
       "      <th></th>\n",
       "      <th>CHROM</th>\n",
       "      <th>NA12891:PI</th>\n",
       "      <th>num_Vars_by_PI</th>\n",
       "      <th>range_of_PI</th>\n",
       "      <th>total_haplotypes</th>\n",
       "      <th>total_Vars</th>\n",
       "      <th>stage</th>\n",
       "    </tr>\n",
       "  </thead>\n",
       "  <tbody>\n",
       "    <tr>\n",
       "      <th>0</th>\n",
       "      <td>20</td>\n",
       "      <td>1.0,2.0,3.0,4.0,5.0,6.0,7.0,8.0,9.0,10.0,11.0,...</td>\n",
       "      <td>5,6,3,3,3,4,5,3,4,8,7,4,5,7,3,4,6,3,4,5,5,9,5,...</td>\n",
       "      <td>18860,39198,6180,11396,15999,1754,11424,1913,1...</td>\n",
       "      <td>1933</td>\n",
       "      <td>9666</td>\n",
       "      <td>initial</td>\n",
       "    </tr>\n",
       "    <tr>\n",
       "      <th>1</th>\n",
       "      <td>20</td>\n",
       "      <td>1.0,5.0,9.0,12.0,13.0,17.0,20.0,21.0,22.0,24.0...</td>\n",
       "      <td>17,15,19,4,19,13,5,5,14,7,6,6,4,17,22,5,61,15,...</td>\n",
       "      <td>83618,40234,56755,57384,147745,83182,27164,476...</td>\n",
       "      <td>207</td>\n",
       "      <td>9666</td>\n",
       "      <td>final</td>\n",
       "    </tr>\n",
       "  </tbody>\n",
       "</table>\n",
       "</div>"
      ],
      "text/plain": [
       "   CHROM                                         NA12891:PI  \\\n",
       "0     20  1.0,2.0,3.0,4.0,5.0,6.0,7.0,8.0,9.0,10.0,11.0,...   \n",
       "1     20  1.0,5.0,9.0,12.0,13.0,17.0,20.0,21.0,22.0,24.0...   \n",
       "\n",
       "                                      num_Vars_by_PI  \\\n",
       "0  5,6,3,3,3,4,5,3,4,8,7,4,5,7,3,4,6,3,4,5,5,9,5,...   \n",
       "1  17,15,19,4,19,13,5,5,14,7,6,6,4,17,22,5,61,15,...   \n",
       "\n",
       "                                         range_of_PI  total_haplotypes  \\\n",
       "0  18860,39198,6180,11396,15999,1754,11424,1913,1...              1933   \n",
       "1  83618,40234,56755,57384,147745,83182,27164,476...               207   \n",
       "\n",
       "   total_Vars    stage  \n",
       "0        9666  initial  \n",
       "1        9666    final  "
      ]
     },
     "execution_count": 5,
     "metadata": {},
     "output_type": "execute_result"
    }
   ],
   "source": [
    "df1"
   ]
  },
  {
   "cell_type": "code",
   "execution_count": 6,
   "metadata": {},
   "outputs": [
    {
     "data": {
      "text/html": [
       "<div>\n",
       "<style scoped>\n",
       "    .dataframe tbody tr th:only-of-type {\n",
       "        vertical-align: middle;\n",
       "    }\n",
       "\n",
       "    .dataframe tbody tr th {\n",
       "        vertical-align: top;\n",
       "    }\n",
       "\n",
       "    .dataframe thead th {\n",
       "        text-align: right;\n",
       "    }\n",
       "</style>\n",
       "<table border=\"1\" class=\"dataframe\">\n",
       "  <thead>\n",
       "    <tr style=\"text-align: right;\">\n",
       "      <th></th>\n",
       "      <th>CHROM</th>\n",
       "      <th>NA12891:PI</th>\n",
       "      <th>num_Vars_by_PI</th>\n",
       "      <th>range_of_PI</th>\n",
       "      <th>total_haplotypes</th>\n",
       "      <th>total_Vars</th>\n",
       "      <th>stage</th>\n",
       "    </tr>\n",
       "  </thead>\n",
       "  <tbody>\n",
       "    <tr>\n",
       "      <th>0</th>\n",
       "      <td>20</td>\n",
       "      <td>1.0,5.0,9.0,12.0,13.0,17.0,20.0,21.0,22.0,24.0...</td>\n",
       "      <td>17,15,19,4,19,13,5,5,14,7,6,6,4,17,22,5,61,15,...</td>\n",
       "      <td>83618,40234,56755,57384,147745,83182,27164,476...</td>\n",
       "      <td>207</td>\n",
       "      <td>9666</td>\n",
       "      <td>initial</td>\n",
       "    </tr>\n",
       "    <tr>\n",
       "      <th>1</th>\n",
       "      <td>20</td>\n",
       "      <td>1.0,689.0,744.0,1384.0</td>\n",
       "      <td>3386,284,3194,2802</td>\n",
       "      <td>17386824,1949133,26087506,16659184</td>\n",
       "      <td>4</td>\n",
       "      <td>9666</td>\n",
       "      <td>final</td>\n",
       "    </tr>\n",
       "  </tbody>\n",
       "</table>\n",
       "</div>"
      ],
      "text/plain": [
       "   CHROM                                         NA12891:PI  \\\n",
       "0     20  1.0,5.0,9.0,12.0,13.0,17.0,20.0,21.0,22.0,24.0...   \n",
       "1     20                             1.0,689.0,744.0,1384.0   \n",
       "\n",
       "                                      num_Vars_by_PI  \\\n",
       "0  17,15,19,4,19,13,5,5,14,7,6,6,4,17,22,5,61,15,...   \n",
       "1                                 3386,284,3194,2802   \n",
       "\n",
       "                                         range_of_PI  total_haplotypes  \\\n",
       "0  83618,40234,56755,57384,147745,83182,27164,476...               207   \n",
       "1                 17386824,1949133,26087506,16659184                 4   \n",
       "\n",
       "   total_Vars    stage  \n",
       "0        9666  initial  \n",
       "1        9666    final  "
      ]
     },
     "execution_count": 6,
     "metadata": {},
     "output_type": "execute_result"
    }
   ],
   "source": [
    "df2"
   ]
  },
  {
   "cell_type": "code",
   "execution_count": 20,
   "metadata": {},
   "outputs": [],
   "source": [
    "merged = pd.concat([df1, df2], ignore_index=True)"
   ]
  },
  {
   "cell_type": "code",
   "execution_count": 21,
   "metadata": {},
   "outputs": [
    {
     "data": {
      "text/html": [
       "<div>\n",
       "<style scoped>\n",
       "    .dataframe tbody tr th:only-of-type {\n",
       "        vertical-align: middle;\n",
       "    }\n",
       "\n",
       "    .dataframe tbody tr th {\n",
       "        vertical-align: top;\n",
       "    }\n",
       "\n",
       "    .dataframe thead th {\n",
       "        text-align: right;\n",
       "    }\n",
       "</style>\n",
       "<table border=\"1\" class=\"dataframe\">\n",
       "  <thead>\n",
       "    <tr style=\"text-align: right;\">\n",
       "      <th></th>\n",
       "      <th>CHROM</th>\n",
       "      <th>NA12891:PI</th>\n",
       "      <th>num_Vars_by_PI</th>\n",
       "      <th>range_of_PI</th>\n",
       "      <th>total_haplotypes</th>\n",
       "      <th>total_Vars</th>\n",
       "      <th>stage</th>\n",
       "    </tr>\n",
       "  </thead>\n",
       "  <tbody>\n",
       "    <tr>\n",
       "      <th>0</th>\n",
       "      <td>20</td>\n",
       "      <td>1.0,2.0,3.0,4.0,5.0,6.0,7.0,8.0,9.0,10.0,11.0,...</td>\n",
       "      <td>5,6,3,3,3,4,5,3,4,8,7,4,5,7,3,4,6,3,4,5,5,9,5,...</td>\n",
       "      <td>18860,39198,6180,11396,15999,1754,11424,1913,1...</td>\n",
       "      <td>1933</td>\n",
       "      <td>9666</td>\n",
       "      <td>initial</td>\n",
       "    </tr>\n",
       "    <tr>\n",
       "      <th>1</th>\n",
       "      <td>20</td>\n",
       "      <td>1.0,5.0,9.0,12.0,13.0,17.0,18.0,20.0,21.0,22.0...</td>\n",
       "      <td>17,15,19,4,19,6,7,5,5,27,22,5,51,8,5,34,5,4,14...</td>\n",
       "      <td>83618,40234,56755,57384,147745,25885,26293,271...</td>\n",
       "      <td>391</td>\n",
       "      <td>9666</td>\n",
       "      <td>iteration01</td>\n",
       "    </tr>\n",
       "    <tr>\n",
       "      <th>2</th>\n",
       "      <td>20</td>\n",
       "      <td>1.0,5.0,9.0,12.0,13.0,17.0,18.0,20.0,21.0,22.0...</td>\n",
       "      <td>17,15,19,4,19,6,7,5,5,27,22,5,51,8,5,34,5,4,14...</td>\n",
       "      <td>83618,40234,56755,57384,147745,25885,26293,271...</td>\n",
       "      <td>391</td>\n",
       "      <td>9666</td>\n",
       "      <td>iteration01</td>\n",
       "    </tr>\n",
       "    <tr>\n",
       "      <th>3</th>\n",
       "      <td>20</td>\n",
       "      <td>1.0,54.0,90.0,216.0,250.0,361.0,368.0,369.0,37...</td>\n",
       "      <td>254,195,612,164,541,34,4,4,5,879,240,590,636,3...</td>\n",
       "      <td>1172098,711912,3244413,656419,3413648,76875,70...</td>\n",
       "      <td>67</td>\n",
       "      <td>9666</td>\n",
       "      <td>iteration02</td>\n",
       "    </tr>\n",
       "  </tbody>\n",
       "</table>\n",
       "</div>"
      ],
      "text/plain": [
       "   CHROM                                         NA12891:PI  \\\n",
       "0     20  1.0,2.0,3.0,4.0,5.0,6.0,7.0,8.0,9.0,10.0,11.0,...   \n",
       "1     20  1.0,5.0,9.0,12.0,13.0,17.0,18.0,20.0,21.0,22.0...   \n",
       "2     20  1.0,5.0,9.0,12.0,13.0,17.0,18.0,20.0,21.0,22.0...   \n",
       "3     20  1.0,54.0,90.0,216.0,250.0,361.0,368.0,369.0,37...   \n",
       "\n",
       "                                      num_Vars_by_PI  \\\n",
       "0  5,6,3,3,3,4,5,3,4,8,7,4,5,7,3,4,6,3,4,5,5,9,5,...   \n",
       "1  17,15,19,4,19,6,7,5,5,27,22,5,51,8,5,34,5,4,14...   \n",
       "2  17,15,19,4,19,6,7,5,5,27,22,5,51,8,5,34,5,4,14...   \n",
       "3  254,195,612,164,541,34,4,4,5,879,240,590,636,3...   \n",
       "\n",
       "                                         range_of_PI  total_haplotypes  \\\n",
       "0  18860,39198,6180,11396,15999,1754,11424,1913,1...              1933   \n",
       "1  83618,40234,56755,57384,147745,25885,26293,271...               391   \n",
       "2  83618,40234,56755,57384,147745,25885,26293,271...               391   \n",
       "3  1172098,711912,3244413,656419,3413648,76875,70...                67   \n",
       "\n",
       "   total_Vars        stage  \n",
       "0        9666      initial  \n",
       "1        9666  iteration01  \n",
       "2        9666  iteration01  \n",
       "3        9666  iteration02  "
      ]
     },
     "execution_count": 21,
     "metadata": {},
     "output_type": "execute_result"
    }
   ],
   "source": [
    "merged['stage'] = ['initial', 'iteration01', 'iteration01', 'iteration02']\n",
    "merged"
   ]
  },
  {
   "cell_type": "code",
   "execution_count": 22,
   "metadata": {},
   "outputs": [
    {
     "data": {
      "text/html": [
       "<div>\n",
       "<style scoped>\n",
       "    .dataframe tbody tr th:only-of-type {\n",
       "        vertical-align: middle;\n",
       "    }\n",
       "\n",
       "    .dataframe tbody tr th {\n",
       "        vertical-align: top;\n",
       "    }\n",
       "\n",
       "    .dataframe thead th {\n",
       "        text-align: right;\n",
       "    }\n",
       "</style>\n",
       "<table border=\"1\" class=\"dataframe\">\n",
       "  <thead>\n",
       "    <tr style=\"text-align: right;\">\n",
       "      <th></th>\n",
       "      <th>CHROM</th>\n",
       "      <th>NA12891:PI</th>\n",
       "      <th>num_Vars_by_PI</th>\n",
       "      <th>range_of_PI</th>\n",
       "      <th>total_haplotypes</th>\n",
       "      <th>total_Vars</th>\n",
       "      <th>stage</th>\n",
       "    </tr>\n",
       "  </thead>\n",
       "  <tbody>\n",
       "    <tr>\n",
       "      <th>0</th>\n",
       "      <td>20</td>\n",
       "      <td>1.0,2.0,3.0,4.0,5.0,6.0,7.0,8.0,9.0,10.0,11.0,...</td>\n",
       "      <td>5,6,3,3,3,4,5,3,4,8,7,4,5,7,3,4,6,3,4,5,5,9,5,...</td>\n",
       "      <td>18860,39198,6180,11396,15999,1754,11424,1913,1...</td>\n",
       "      <td>1933</td>\n",
       "      <td>9666</td>\n",
       "      <td>initial</td>\n",
       "    </tr>\n",
       "    <tr>\n",
       "      <th>1</th>\n",
       "      <td>20</td>\n",
       "      <td>1.0,5.0,9.0,12.0,13.0,17.0,18.0,20.0,21.0,22.0...</td>\n",
       "      <td>17,15,19,4,19,6,7,5,5,27,22,5,51,8,5,34,5,4,14...</td>\n",
       "      <td>83618,40234,56755,57384,147745,25885,26293,271...</td>\n",
       "      <td>391</td>\n",
       "      <td>9666</td>\n",
       "      <td>iteration01</td>\n",
       "    </tr>\n",
       "    <tr>\n",
       "      <th>3</th>\n",
       "      <td>20</td>\n",
       "      <td>1.0,54.0,90.0,216.0,250.0,361.0,368.0,369.0,37...</td>\n",
       "      <td>254,195,612,164,541,34,4,4,5,879,240,590,636,3...</td>\n",
       "      <td>1172098,711912,3244413,656419,3413648,76875,70...</td>\n",
       "      <td>67</td>\n",
       "      <td>9666</td>\n",
       "      <td>iteration02</td>\n",
       "    </tr>\n",
       "  </tbody>\n",
       "</table>\n",
       "</div>"
      ],
      "text/plain": [
       "   CHROM                                         NA12891:PI  \\\n",
       "0     20  1.0,2.0,3.0,4.0,5.0,6.0,7.0,8.0,9.0,10.0,11.0,...   \n",
       "1     20  1.0,5.0,9.0,12.0,13.0,17.0,18.0,20.0,21.0,22.0...   \n",
       "3     20  1.0,54.0,90.0,216.0,250.0,361.0,368.0,369.0,37...   \n",
       "\n",
       "                                      num_Vars_by_PI  \\\n",
       "0  5,6,3,3,3,4,5,3,4,8,7,4,5,7,3,4,6,3,4,5,5,9,5,...   \n",
       "1  17,15,19,4,19,6,7,5,5,27,22,5,51,8,5,34,5,4,14...   \n",
       "3  254,195,612,164,541,34,4,4,5,879,240,590,636,3...   \n",
       "\n",
       "                                         range_of_PI  total_haplotypes  \\\n",
       "0  18860,39198,6180,11396,15999,1754,11424,1913,1...              1933   \n",
       "1  83618,40234,56755,57384,147745,25885,26293,271...               391   \n",
       "3  1172098,711912,3244413,656419,3413648,76875,70...                67   \n",
       "\n",
       "   total_Vars        stage  \n",
       "0        9666      initial  \n",
       "1        9666  iteration01  \n",
       "3        9666  iteration02  "
      ]
     },
     "execution_count": 22,
     "metadata": {},
     "output_type": "execute_result"
    }
   ],
   "source": [
    "merged= merged.drop_duplicates()\n",
    "merged"
   ]
  },
  {
   "cell_type": "code",
   "execution_count": 23,
   "metadata": {},
   "outputs": [
    {
     "data": {
      "text/plain": [
       "<AxesSubplot:xlabel='CHROM', ylabel='total_haplotypes'>"
      ]
     },
     "execution_count": 23,
     "metadata": {},
     "output_type": "execute_result"
    },
    {
     "data": {
      "image/png": "[encoded data removed]",
      "text/plain": [
       "<Figure size 432x288 with 1 Axes>"
      ]
     },
     "metadata": {
      "needs_background": "light"
     },
     "output_type": "display_data"
    }
   ],
   "source": [
    "\n",
    "sns.barplot(y = 'total_haplotypes', data=merged, x=\"CHROM\", hue= 'stage')"
   ]
  },
  {
   "cell_type": "code",
   "execution_count": 107,
   "metadata": {},
   "outputs": [
    {
     "data": {
      "text/html": [
       "<div>\n",
       "<style scoped>\n",
       "    .dataframe tbody tr th:only-of-type {\n",
       "        vertical-align: middle;\n",
       "    }\n",
       "\n",
       "    .dataframe tbody tr th {\n",
       "        vertical-align: top;\n",
       "    }\n",
       "\n",
       "    .dataframe thead th {\n",
       "        text-align: right;\n",
       "    }\n",
       "</style>\n",
       "<table border=\"1\" class=\"dataframe\">\n",
       "  <thead>\n",
       "    <tr style=\"text-align: right;\">\n",
       "      <th></th>\n",
       "      <th>CHROM</th>\n",
       "      <th>NA12891:PI</th>\n",
       "      <th>num_Vars_by_PI</th>\n",
       "      <th>range_of_PI</th>\n",
       "      <th>total_haplotypes</th>\n",
       "      <th>total_Vars</th>\n",
       "      <th>stage</th>\n",
       "    </tr>\n",
       "  </thead>\n",
       "  <tbody>\n",
       "    <tr>\n",
       "      <th>0</th>\n",
       "      <td>20</td>\n",
       "      <td>1.0,2.0,3.0,4.0,5.0,6.0,7.0,8.0,9.0,10.0,11.0,...</td>\n",
       "      <td>5,6,3,3,3,4,5,3,4,8,7,4,5,7,3,4,6,3,4,5,5,9,5,...</td>\n",
       "      <td>18860,39198,6180,11396,15999,1754,11424,1913,1...</td>\n",
       "      <td>1933</td>\n",
       "      <td>9666</td>\n",
       "      <td>initial</td>\n",
       "    </tr>\n",
       "    <tr>\n",
       "      <th>1</th>\n",
       "      <td>20</td>\n",
       "      <td>1.0,5.0,9.0,12.0,13.0,17.0,18.0,20.0,21.0,22.0...</td>\n",
       "      <td>17,15,19,4,19,6,7,5,5,27,22,5,51,8,5,34,5,4,14...</td>\n",
       "      <td>83618,40234,56755,57384,147745,25885,26293,271...</td>\n",
       "      <td>391</td>\n",
       "      <td>9666</td>\n",
       "      <td>iteration01</td>\n",
       "    </tr>\n",
       "    <tr>\n",
       "      <th>3</th>\n",
       "      <td>20</td>\n",
       "      <td>1.0,54.0,90.0,216.0,250.0,361.0,368.0,369.0,37...</td>\n",
       "      <td>254,195,612,164,541,34,4,4,5,879,240,590,636,3...</td>\n",
       "      <td>1172098,711912,3244413,656419,3413648,76875,70...</td>\n",
       "      <td>67</td>\n",
       "      <td>9666</td>\n",
       "      <td>iteration02</td>\n",
       "    </tr>\n",
       "  </tbody>\n",
       "</table>\n",
       "</div>"
      ],
      "text/plain": [
       "   CHROM                                         NA12891:PI  \\\n",
       "0     20  1.0,2.0,3.0,4.0,5.0,6.0,7.0,8.0,9.0,10.0,11.0,...   \n",
       "1     20  1.0,5.0,9.0,12.0,13.0,17.0,18.0,20.0,21.0,22.0...   \n",
       "3     20  1.0,54.0,90.0,216.0,250.0,361.0,368.0,369.0,37...   \n",
       "\n",
       "                                      num_Vars_by_PI  \\\n",
       "0  5,6,3,3,3,4,5,3,4,8,7,4,5,7,3,4,6,3,4,5,5,9,5,...   \n",
       "1  17,15,19,4,19,6,7,5,5,27,22,5,51,8,5,34,5,4,14...   \n",
       "3  254,195,612,164,541,34,4,4,5,879,240,590,636,3...   \n",
       "\n",
       "                                         range_of_PI  total_haplotypes  \\\n",
       "0  18860,39198,6180,11396,15999,1754,11424,1913,1...              1933   \n",
       "1  83618,40234,56755,57384,147745,25885,26293,271...               391   \n",
       "3  1172098,711912,3244413,656419,3413648,76875,70...                67   \n",
       "\n",
       "   total_Vars        stage  \n",
       "0        9666      initial  \n",
       "1        9666  iteration01  \n",
       "3        9666  iteration02  "
      ]
     },
     "execution_count": 107,
     "metadata": {},
     "output_type": "execute_result"
    }
   ],
   "source": [
    "merged"
   ]
  },
  {
   "cell_type": "code",
   "execution_count": 15,
   "metadata": {},
   "outputs": [
    {
     "data": {
      "image/png": "[encoded data removed]",
      "text/plain": [
       "<Figure size 432x288 with 1 Axes>"
      ]
     },
     "metadata": {
      "needs_background": "light"
     },
     "output_type": "display_data"
    }
   ],
   "source": [
    "g = sns.barplot(y = 'total_haplotypes', data=merged, x='CHROM', hue= 'stage')\n",
    "g.set_title(\" Stacked number of haplotypes for each chromosome\")\n",
    "g.set(ylabel=\"number of haplotypes\")\n",
    "plt.tight_layout()\n",
    "g.figure.savefig(outputdir+\"/total_haps_stacked.png\")\n"
   ]
  },
  {
   "cell_type": "code",
   "execution_count": 16,
   "metadata": {},
   "outputs": [
    {
     "data": {
      "image/png": "[encoded data removed]",
      "text/plain": [
       "<Figure size 432x288 with 2 Axes>"
      ]
     },
     "metadata": {
      "needs_background": "light"
     },
     "output_type": "display_data"
    }
   ],
   "source": [
    "merged[['CHROM','total_haplotypes','total_Vars', 'stage']].plot(x= 'CHROM',kind= 'bar', secondary_y = 'total_Vars', legend=False)\n",
    "# ax = merged.plot(y= ['total_haplotypes',\"total_Vars\"],kind= 'bar', secondary_y = 'total_Vars')\n",
    "# plt.tight_layout()\n",
    "# merged.plot(y= 'total_Vars',kind= 'bar', ax=ax)\n",
    "# merged.plot(y= 'total_haplotypes',kind= 'bar',ax=ax)\n",
    "plt.savefig(outputdir+\"/total_haps_stacked2.png\")\n"
   ]
  },
  {
   "cell_type": "code",
   "execution_count": 17,
   "metadata": {},
   "outputs": [
    {
     "data": {
      "text/plain": [
       "<AxesSubplot:xlabel='CHROM', ylabel='total_haplotypes'>"
      ]
     },
     "execution_count": 17,
     "metadata": {},
     "output_type": "execute_result"
    },
    {
     "data": {
      "image/png": "[encoded data removed]",
      "text/plain": [
       "<Figure size 432x288 with 1 Axes>"
      ]
     },
     "metadata": {
      "needs_background": "light"
     },
     "output_type": "display_data"
    }
   ],
   "source": [
    "# sns.barplot(y = 'total_Vars', data=merged,x='CHROM')\n",
    "sns.barplot(y = 'total_haplotypes', data=merged[['CHROM','total_haplotypes','total_Vars', 'stage']], x='CHROM', hue='stage')"
   ]
  },
  {
   "cell_type": "code",
   "execution_count": 24,
   "metadata": {},
   "outputs": [
    {
     "data": {
      "image/png": "[encoded data removed]",
      "text/plain": [
       "<Figure size 864x432 with 3 Axes>"
      ]
     },
     "metadata": {
      "needs_background": "light"
     },
     "output_type": "display_data"
    }
   ],
   "source": [
    "fig, axs = plt.subplots(ncols=2, figsize=(12,6), gridspec_kw={'width_ratios': [3, 1]})\n",
    "# axs.autoscale(enable=True) \n",
    "g =sns.barplot(y = 'total_Vars', data=merged,x='CHROM',color='#FFBD33', ax= axs[1].twinx())\n",
    "# g.set(yticklabels=[])\n",
    "# ax[1].set_y_axis('')\n",
    "sns.barplot(y = 'total_haplotypes', data=merged, x='CHROM', hue= 'stage', ax= axs[0])\n",
    "axs[0].set(title=\"Bar plot showing total number \\n of haplotypes for each chromosomes\")\n",
    "axs[0].set(ylabel='total number of haplotypes')\n",
    "axs[1].set(title=\"Bar plot showing total number \\n  of variants for each chromosomes\")\n",
    "axs[1].set(ylabel='total number of variants')\n",
    "\n",
    "plt.tight_layout()\n",
    "fig.savefig(outputdir+\"/total_haps_stacked_with_vars2.png\")"
   ]
  },
  {
   "cell_type": "code",
   "execution_count": 19,
   "metadata": {},
   "outputs": [],
   "source": [
    "def get_melted_df(df, col_name= 'range_of_PI'):\n",
    "    splited = df[col_name].str.split(',', expand=True)\n",
    "    splited['stage'] = ['initial', 'iteration01', 'iteration02']\n",
    "    melted_df = splited.melt(id_vars= 'stage')\n",
    "    melted_df.dropna(inplace=True)\n",
    "    melted_df['value'] = pd.to_numeric(melted_df['value'])\n",
    "    return melted_df\n",
    "\n"
   ]
  },
  {
   "cell_type": "code",
   "execution_count": 20,
   "metadata": {},
   "outputs": [],
   "source": [
    "def plot_hist_one_chr_stacked(melted_df, hist_by=None, filepath=None, prefix= 'Stacked',logscale_x=True,\n",
    "            logscale_y=True, show_plot=False):\n",
    "    sub_title = (\n",
    "            \"number of variants\" if hist_by == \"num_Vars_by_PI\" else \"genomic distance\"\n",
    "        )\n",
    "    title = f\"{prefix} histogram of haplotype size by {sub_title} \\n for each chromosome\"\n",
    "    ax = sns.displot(data=melted_df, x='value', hue='stage', log_scale=[logscale_x, logscale_y])\n",
    "    # sns.move_legend(ax, \"upper right\", title='Stages')\n",
    "    # ax.fig.suptitle(title)\n",
    "    # if logscale_x:\n",
    "    #     sub_title += \" (in log2 scale)\"\n",
    "    # ax.set_xlabel(f\"size of the haplotype (by {sub_title})\")\n",
    "\n",
    "    # if logscale_y:\n",
    "\n",
    "    #     y_label = \"frequency of the haplotypes(in log2scale) \"\n",
    "    # else:\n",
    "    y_label = \"frequency of the haplotypes\"\n",
    "    x_label = f\"haplotype size by {sub_title}\"\n",
    "    \n",
    "    # ax.set_ylabel(y_label)\n",
    "    ax.set(title=title, xlabel =x_label, ylabel= y_label )\n",
    "    plt.tight_layout()\n",
    "\n",
    "    # ax.text(.05, .5, 'frequency of the haplotypes', ha='center', va='center', rotation='vertical')\n",
    "    if show_plot:\n",
    "        plt.show()\n",
    "    if filepath:\n",
    "        ax.figure.savefig(filepath)\n",
    "        plt.close()"
   ]
  },
  {
   "cell_type": "code",
   "execution_count": 21,
   "metadata": {},
   "outputs": [],
   "source": [
    "genomic_dist = get_melted_df(merged, col_name= 'range_of_PI')\n"
   ]
  },
  {
   "cell_type": "code",
   "execution_count": 22,
   "metadata": {},
   "outputs": [
    {
     "data": {
      "image/png": "[encoded data removed]",
      "text/plain": [
       "<Figure size 450.875x360 with 1 Axes>"
      ]
     },
     "metadata": {
      "needs_background": "light"
     },
     "output_type": "display_data"
    }
   ],
   "source": [
    "plot_hist_one_chr_stacked(genomic_dist, hist_by=\"range_of_PI\",show_plot=True, logscale_y=10, logscale_x=10)"
   ]
  },
  {
   "cell_type": "code",
   "execution_count": 23,
   "metadata": {},
   "outputs": [
    {
     "data": {
      "image/png": "[encoded data removed]",
      "text/plain": [
       "<Figure size 450.875x360 with 1 Axes>"
      ]
     },
     "metadata": {
      "needs_background": "light"
     },
     "output_type": "display_data"
    }
   ],
   "source": [
    "plot_hist_one_chr_stacked(genomic_dist, hist_by=\"range_of_PI\",show_plot=True, logscale_y=2, logscale_x=2)"
   ]
  },
  {
   "cell_type": "code",
   "execution_count": 24,
   "metadata": {},
   "outputs": [
    {
     "data": {
      "image/png": "[encoded data removed]",
      "text/plain": [
       "<Figure size 450.875x360 with 1 Axes>"
      ]
     },
     "metadata": {
      "needs_background": "light"
     },
     "output_type": "display_data"
    }
   ],
   "source": [
    "plot_hist_one_chr_stacked(genomic_dist, hist_by=\"range_of_PI\", filepath=outputdir+\"/hap_size_byGenomicRange_stacked.png\", show_plot=True)"
   ]
  },
  {
   "cell_type": "code",
   "execution_count": 25,
   "metadata": {},
   "outputs": [],
   "source": [
    "num_vars = get_melted_df(merged, col_name = \"num_Vars_by_PI\")"
   ]
  },
  {
   "cell_type": "code",
   "execution_count": 26,
   "metadata": {},
   "outputs": [
    {
     "data": {
      "image/png": "[encoded data removed]",
      "text/plain": [
       "<Figure size 450.875x360 with 1 Axes>"
      ]
     },
     "metadata": {
      "needs_background": "light"
     },
     "output_type": "display_data"
    }
   ],
   "source": [
    "plot_hist_one_chr_stacked(num_vars,hist_by= \"num_Vars_by_PI\",logscale_y=2, logscale_x=2,filepath=outputdir+\"/hap_size_byVars_stacked.png\", show_plot=True)"
   ]
  },
  {
   "cell_type": "code",
   "execution_count": 27,
   "metadata": {},
   "outputs": [
    {
     "data": {
      "image/png": "[encoded data removed]",
      "text/plain": [
       "<Figure size 450.875x360 with 1 Axes>"
      ]
     },
     "metadata": {
      "needs_background": "light"
     },
     "output_type": "display_data"
    }
   ],
   "source": [
    "plot_hist_one_chr_stacked(num_vars,hist_by= \"num_Vars_by_PI\",logscale_y=10, logscale_x=10,filepath=outputdir+\"/hap_size_byVars_stacked.png\", show_plot=True)"
   ]
  },
  {
   "cell_type": "code",
   "execution_count": 28,
   "metadata": {},
   "outputs": [
    {
     "data": {
      "text/html": [
       "<div>\n",
       "<style scoped>\n",
       "    .dataframe tbody tr th:only-of-type {\n",
       "        vertical-align: middle;\n",
       "    }\n",
       "\n",
       "    .dataframe tbody tr th {\n",
       "        vertical-align: top;\n",
       "    }\n",
       "\n",
       "    .dataframe thead th {\n",
       "        text-align: right;\n",
       "    }\n",
       "</style>\n",
       "<table border=\"1\" class=\"dataframe\">\n",
       "  <thead>\n",
       "    <tr style=\"text-align: right;\">\n",
       "      <th></th>\n",
       "      <th>CHROM</th>\n",
       "      <th>NA12891:PI</th>\n",
       "      <th>num_Vars_by_PI</th>\n",
       "      <th>range_of_PI</th>\n",
       "      <th>total_haplotypes</th>\n",
       "      <th>total_Vars</th>\n",
       "      <th>stage</th>\n",
       "    </tr>\n",
       "  </thead>\n",
       "  <tbody>\n",
       "    <tr>\n",
       "      <th>0</th>\n",
       "      <td>20</td>\n",
       "      <td>1.0,2.0,3.0,4.0,5.0,6.0,7.0,8.0,9.0,10.0,11.0,...</td>\n",
       "      <td>5,6,3,3,3,4,5,3,4,8,7,4,5,7,3,4,6,3,4,5,5,9,5,...</td>\n",
       "      <td>18860,39198,6180,11396,15999,1754,11424,1913,1...</td>\n",
       "      <td>1933</td>\n",
       "      <td>9666</td>\n",
       "      <td>initial</td>\n",
       "    </tr>\n",
       "    <tr>\n",
       "      <th>1</th>\n",
       "      <td>20</td>\n",
       "      <td>1.0,5.0,9.0,12.0,13.0,17.0,20.0,21.0,22.0,24.0...</td>\n",
       "      <td>17,15,19,4,19,13,5,5,14,7,6,6,4,17,22,5,61,15,...</td>\n",
       "      <td>83618,40234,56755,57384,147745,83182,27164,476...</td>\n",
       "      <td>207</td>\n",
       "      <td>9666</td>\n",
       "      <td>iteration01</td>\n",
       "    </tr>\n",
       "    <tr>\n",
       "      <th>3</th>\n",
       "      <td>20</td>\n",
       "      <td>1.0,689.0,744.0,1384.0</td>\n",
       "      <td>3386,284,3194,2802</td>\n",
       "      <td>17386824,1949133,26087506,16659184</td>\n",
       "      <td>4</td>\n",
       "      <td>9666</td>\n",
       "      <td>iteration02</td>\n",
       "    </tr>\n",
       "  </tbody>\n",
       "</table>\n",
       "</div>"
      ],
      "text/plain": [
       "   CHROM                                         NA12891:PI  \\\n",
       "0     20  1.0,2.0,3.0,4.0,5.0,6.0,7.0,8.0,9.0,10.0,11.0,...   \n",
       "1     20  1.0,5.0,9.0,12.0,13.0,17.0,20.0,21.0,22.0,24.0...   \n",
       "3     20                             1.0,689.0,744.0,1384.0   \n",
       "\n",
       "                                      num_Vars_by_PI  \\\n",
       "0  5,6,3,3,3,4,5,3,4,8,7,4,5,7,3,4,6,3,4,5,5,9,5,...   \n",
       "1  17,15,19,4,19,13,5,5,14,7,6,6,4,17,22,5,61,15,...   \n",
       "3                                 3386,284,3194,2802   \n",
       "\n",
       "                                         range_of_PI  total_haplotypes  \\\n",
       "0  18860,39198,6180,11396,15999,1754,11424,1913,1...              1933   \n",
       "1  83618,40234,56755,57384,147745,83182,27164,476...               207   \n",
       "3                 17386824,1949133,26087506,16659184                 4   \n",
       "\n",
       "   total_Vars        stage  \n",
       "0        9666      initial  \n",
       "1        9666  iteration01  \n",
       "3        9666  iteration02  "
      ]
     },
     "execution_count": 28,
     "metadata": {},
     "output_type": "execute_result"
    }
   ],
   "source": [
    "merged"
   ]
  },
  {
   "cell_type": "code",
   "execution_count": 29,
   "metadata": {},
   "outputs": [
    {
     "name": "stderr",
     "output_type": "stream",
     "text": [
      "/var/folders/61/h78z5s917c779z35t_bnr0_c0000gn/T/ipykernel_29523/1464158640.py:1: SettingWithCopyWarning: \n",
      "A value is trying to be set on a copy of a slice from a DataFrame.\n",
      "Try using .loc[row_indexer,col_indexer] = value instead\n",
      "\n",
      "See the caveats in the documentation: https://pandas.pydata.org/pandas-docs/stable/user_guide/indexing.html#returning-a-view-versus-a-copy\n",
      "  merged['max_range_pi'] = merged['range_of_PI'].apply(lambda x: max((int(xs) for xs in x.split(','))))\n",
      "/var/folders/61/h78z5s917c779z35t_bnr0_c0000gn/T/ipykernel_29523/1464158640.py:2: SettingWithCopyWarning: \n",
      "A value is trying to be set on a copy of a slice from a DataFrame.\n",
      "Try using .loc[row_indexer,col_indexer] = value instead\n",
      "\n",
      "See the caveats in the documentation: https://pandas.pydata.org/pandas-docs/stable/user_guide/indexing.html#returning-a-view-versus-a-copy\n",
      "  merged['min_range_pi'] = merged['range_of_PI'].apply(lambda x: min((int(xs) for xs in x.split(','))))\n",
      "/var/folders/61/h78z5s917c779z35t_bnr0_c0000gn/T/ipykernel_29523/1464158640.py:3: SettingWithCopyWarning: \n",
      "A value is trying to be set on a copy of a slice from a DataFrame.\n",
      "Try using .loc[row_indexer,col_indexer] = value instead\n",
      "\n",
      "See the caveats in the documentation: https://pandas.pydata.org/pandas-docs/stable/user_guide/indexing.html#returning-a-view-versus-a-copy\n",
      "  merged['max_num_vars_pi']= merged['num_Vars_by_PI'].apply(lambda x: max((int(xs) for xs in x.split(','))))\n",
      "/var/folders/61/h78z5s917c779z35t_bnr0_c0000gn/T/ipykernel_29523/1464158640.py:4: SettingWithCopyWarning: \n",
      "A value is trying to be set on a copy of a slice from a DataFrame.\n",
      "Try using .loc[row_indexer,col_indexer] = value instead\n",
      "\n",
      "See the caveats in the documentation: https://pandas.pydata.org/pandas-docs/stable/user_guide/indexing.html#returning-a-view-versus-a-copy\n",
      "  merged['min_num_vars_pi'] = merged['num_Vars_by_PI'].apply(lambda x: min((int(xs) for xs in x.split(','))))\n"
     ]
    }
   ],
   "source": [
    "merged['max_range_pi'] = merged['range_of_PI'].apply(lambda x: max((int(xs) for xs in x.split(','))))\n",
    "merged['min_range_pi'] = merged['range_of_PI'].apply(lambda x: min((int(xs) for xs in x.split(','))))\n",
    "merged['max_num_vars_pi']= merged['num_Vars_by_PI'].apply(lambda x: max((int(xs) for xs in x.split(','))))\n",
    "merged['min_num_vars_pi'] = merged['num_Vars_by_PI'].apply(lambda x: min((int(xs) for xs in x.split(','))))\n"
   ]
  },
  {
   "cell_type": "code",
   "execution_count": 235,
   "metadata": {},
   "outputs": [],
   "source": [
    "merged.drop(columns=['NA12891:PI', \"num_Vars_by_PI\", \"range_of_PI\"]).to_csv(outputdir+\"/metrics.csv\", index=False)"
   ]
  }
 ],
 "metadata": {
  "interpreter": {
   "hash": "76fecdcc5948a122d6459e2081f75ede80f8418a8099f56ea59c608eb267b4e7"
  },
  "kernelspec": {
   "display_name": "Python 3.10.2 ('.env': venv)",
   "language": "python",
   "name": "python3"
  },
  "language_info": {
   "codemirror_mode": {
    "name": "ipython",
    "version": 3
   },
   "file_extension": ".py",
   "mimetype": "text/x-python",
   "name": "python",
   "nbconvert_exporter": "python",
   "pygments_lexer": "ipython3",
   "version": "3.10.2"
  },
  "orig_nbformat": 4
 },
 "nbformat": 4,
 "nbformat_minor": 2
}
